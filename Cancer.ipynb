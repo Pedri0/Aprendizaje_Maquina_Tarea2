{
 "cells": [
  {
   "cell_type": "markdown",
   "metadata": {},
   "source": [
    "# 3 Cancer de seno.\n",
    "\n",
    "Divide aleatoriamente el conjunto de datos de cáncer de seno de Wisconsin 3 en un subconjunto de\n",
    "entrenamiento con el 70 % de los datos y un subconjunto de validación con el 30 % restante usando 0\n",
    "como semilla para tu generador de números aleatorios. Este conjunto de datos contiene 699 registros\n",
    "de tumores de seno, de los cuales 458 son benignos y 241 son malignos. Cada registro consta de los\n",
    "siguientes atributos:\n",
    "\n",
    "| Numero  | Atributo  | Valores | \n",
    "| ------- |:-------------:|:-------------:| \n",
    "| 1       | Código de la muestra |  ID |\n",
    "| 2       | Grosor del tumor|  1-10 |\n",
    "| 3       | Uniformidad del tamaño de la célula |  1-10 |\n",
    "| 4       | Uniformidad de la forma de la célula |  1-10 |\n",
    "| 5       | Adhesión marginal|  1-10 |\n",
    "| 6       | Tamaño de célula epitelial |  1-10  |\n",
    "| 7       | Núcleos desnudos |  1-10 |\n",
    "| 8       | Cromatina blanda|  1-10 |\n",
    "| 9       | Nucléolos normales |  1-10  |\n",
    "| 10      | Mitosis de células | 1-10 |\n",
    "| 11      | Clase|  2 para benigno ; 4 para maligno\n",
    "\n",
    "Entrena un clasificador bayesiano ingenuo de tumores de seno y evalúalo tanto con el subconjunto\n",
    "de entrenamiento como con el subconjunto de validación y discute su desempeño. Existen 16 registros\n",
    "en el conjunto de datos con un atributo no especificado. Investiga estrategias para rellenar los datos\n",
    "faltantes, utiliza las que consideres más adecuadas para este problema y discute el impacto en el\n",
    "desempeño del clasificador."
   ]
  },
  {
   "cell_type": "code",
   "execution_count": 1,
   "metadata": {},
   "outputs": [
    {
     "data": {
      "text/html": [
       "<div>\n",
       "<style scoped>\n",
       "    .dataframe tbody tr th:only-of-type {\n",
       "        vertical-align: middle;\n",
       "    }\n",
       "\n",
       "    .dataframe tbody tr th {\n",
       "        vertical-align: top;\n",
       "    }\n",
       "\n",
       "    .dataframe thead th {\n",
       "        text-align: right;\n",
       "    }\n",
       "</style>\n",
       "<table border=\"1\" class=\"dataframe\">\n",
       "  <thead>\n",
       "    <tr style=\"text-align: right;\">\n",
       "      <th></th>\n",
       "      <th>ID</th>\n",
       "      <th>G</th>\n",
       "      <th>UT</th>\n",
       "      <th>UF</th>\n",
       "      <th>A</th>\n",
       "      <th>T</th>\n",
       "      <th>ND</th>\n",
       "      <th>Cr</th>\n",
       "      <th>NN</th>\n",
       "      <th>M</th>\n",
       "      <th>C</th>\n",
       "    </tr>\n",
       "  </thead>\n",
       "  <tbody>\n",
       "    <tr>\n",
       "      <th>0</th>\n",
       "      <td>1000025</td>\n",
       "      <td>5</td>\n",
       "      <td>1</td>\n",
       "      <td>1</td>\n",
       "      <td>1</td>\n",
       "      <td>2</td>\n",
       "      <td>1</td>\n",
       "      <td>3</td>\n",
       "      <td>1</td>\n",
       "      <td>1</td>\n",
       "      <td>2</td>\n",
       "    </tr>\n",
       "    <tr>\n",
       "      <th>1</th>\n",
       "      <td>1002945</td>\n",
       "      <td>5</td>\n",
       "      <td>4</td>\n",
       "      <td>4</td>\n",
       "      <td>5</td>\n",
       "      <td>7</td>\n",
       "      <td>10</td>\n",
       "      <td>3</td>\n",
       "      <td>2</td>\n",
       "      <td>1</td>\n",
       "      <td>2</td>\n",
       "    </tr>\n",
       "    <tr>\n",
       "      <th>2</th>\n",
       "      <td>1015425</td>\n",
       "      <td>3</td>\n",
       "      <td>1</td>\n",
       "      <td>1</td>\n",
       "      <td>1</td>\n",
       "      <td>2</td>\n",
       "      <td>2</td>\n",
       "      <td>3</td>\n",
       "      <td>1</td>\n",
       "      <td>1</td>\n",
       "      <td>2</td>\n",
       "    </tr>\n",
       "    <tr>\n",
       "      <th>3</th>\n",
       "      <td>1016277</td>\n",
       "      <td>6</td>\n",
       "      <td>8</td>\n",
       "      <td>8</td>\n",
       "      <td>1</td>\n",
       "      <td>3</td>\n",
       "      <td>4</td>\n",
       "      <td>3</td>\n",
       "      <td>7</td>\n",
       "      <td>1</td>\n",
       "      <td>2</td>\n",
       "    </tr>\n",
       "    <tr>\n",
       "      <th>4</th>\n",
       "      <td>1017023</td>\n",
       "      <td>4</td>\n",
       "      <td>1</td>\n",
       "      <td>1</td>\n",
       "      <td>3</td>\n",
       "      <td>2</td>\n",
       "      <td>1</td>\n",
       "      <td>3</td>\n",
       "      <td>1</td>\n",
       "      <td>1</td>\n",
       "      <td>2</td>\n",
       "    </tr>\n",
       "    <tr>\n",
       "      <th>5</th>\n",
       "      <td>1017122</td>\n",
       "      <td>8</td>\n",
       "      <td>10</td>\n",
       "      <td>10</td>\n",
       "      <td>8</td>\n",
       "      <td>7</td>\n",
       "      <td>10</td>\n",
       "      <td>9</td>\n",
       "      <td>7</td>\n",
       "      <td>1</td>\n",
       "      <td>4</td>\n",
       "    </tr>\n",
       "    <tr>\n",
       "      <th>6</th>\n",
       "      <td>1018099</td>\n",
       "      <td>1</td>\n",
       "      <td>1</td>\n",
       "      <td>1</td>\n",
       "      <td>1</td>\n",
       "      <td>2</td>\n",
       "      <td>10</td>\n",
       "      <td>3</td>\n",
       "      <td>1</td>\n",
       "      <td>1</td>\n",
       "      <td>2</td>\n",
       "    </tr>\n",
       "    <tr>\n",
       "      <th>7</th>\n",
       "      <td>1018561</td>\n",
       "      <td>2</td>\n",
       "      <td>1</td>\n",
       "      <td>2</td>\n",
       "      <td>1</td>\n",
       "      <td>2</td>\n",
       "      <td>1</td>\n",
       "      <td>3</td>\n",
       "      <td>1</td>\n",
       "      <td>1</td>\n",
       "      <td>2</td>\n",
       "    </tr>\n",
       "  </tbody>\n",
       "</table>\n",
       "</div>"
      ],
      "text/plain": [
       "        ID  G  UT  UF  A  T  ND  Cr  NN  M  C\n",
       "0  1000025  5   1   1  1  2   1   3   1  1  2\n",
       "1  1002945  5   4   4  5  7  10   3   2  1  2\n",
       "2  1015425  3   1   1  1  2   2   3   1  1  2\n",
       "3  1016277  6   8   8  1  3   4   3   7  1  2\n",
       "4  1017023  4   1   1  3  2   1   3   1  1  2\n",
       "5  1017122  8  10  10  8  7  10   9   7  1  4\n",
       "6  1018099  1   1   1  1  2  10   3   1  1  2\n",
       "7  1018561  2   1   2  1  2   1   3   1  1  2"
      ]
     },
     "execution_count": 1,
     "metadata": {},
     "output_type": "execute_result"
    }
   ],
   "source": [
    "import pandas as pd\n",
    "import numpy as np\n",
    "import sklearn\n",
    "from sklearn.naive_bayes import MultinomialNB\n",
    "from sklearn.naive_bayes import CategoricalNB\n",
    "from sklearn.metrics import accuracy_score\n",
    "\n",
    "cancer = pd.read_csv('breast-cancer-wisconsin.data',header=None,sep=',')\n",
    "Cancer = pd.DataFrame(cancer)\n",
    "Cancer.rename(columns={0:'ID',1:'G',2:'UT',3:'UF',4:'A',5:'T',6:'ND',7:'Cr',8:'NN',9:'M',10:'C'}, inplace=True)\n",
    "Cancer.head(8)"
   ]
  },
  {
   "cell_type": "code",
   "execution_count": 2,
   "metadata": {},
   "outputs": [
    {
     "name": "stdout",
     "output_type": "stream",
     "text": [
      "<class 'pandas.core.frame.DataFrame'>\n",
      "RangeIndex: 699 entries, 0 to 698\n",
      "Data columns (total 11 columns):\n",
      " #   Column  Non-Null Count  Dtype \n",
      "---  ------  --------------  ----- \n",
      " 0   ID      699 non-null    int64 \n",
      " 1   G       699 non-null    int64 \n",
      " 2   UT      699 non-null    int64 \n",
      " 3   UF      699 non-null    int64 \n",
      " 4   A       699 non-null    int64 \n",
      " 5   T       699 non-null    int64 \n",
      " 6   ND      699 non-null    object\n",
      " 7   Cr      699 non-null    int64 \n",
      " 8   NN      699 non-null    int64 \n",
      " 9   M       699 non-null    int64 \n",
      " 10  C       699 non-null    int64 \n",
      "dtypes: int64(10), object(1)\n",
      "memory usage: 60.2+ KB\n",
      "None\n",
      "          ID  G  UT  UF  A  T ND  Cr  NN  M  C\n",
      "23   1057013  8   4   5  1  2  ?   7   3  1  4\n",
      "40   1096800  6   6   6  9  6  ?   7   8  1  2\n",
      "139  1183246  1   1   1  1  1  ?   2   1  1  2\n",
      "145  1184840  1   1   3  1  2  ?   2   1  1  2\n",
      "158  1193683  1   1   2  1  3  ?   1   1  1  2\n",
      "164  1197510  5   1   1  1  2  ?   3   1  1  2\n",
      "235  1241232  3   1   4  1  2  ?   3   1  1  2\n",
      "249   169356  3   1   1  1  2  ?   3   1  1  2\n",
      "275   432809  3   1   3  1  2  ?   2   1  1  2\n",
      "292   563649  8   8   8  1  2  ?   6  10  1  4\n",
      "294   606140  1   1   1  1  2  ?   2   1  1  2\n",
      "297    61634  5   4   3  1  2  ?   2   3  1  2\n",
      "315   704168  4   6   5  6  7  ?   4   9  1  2\n",
      "321   733639  3   1   1  1  2  ?   3   1  1  2\n",
      "411  1238464  1   1   1  1  1  ?   2   1  1  2\n",
      "617  1057067  1   1   1  1  1  ?   1   1  1  2\n",
      "Int64Index([23, 40, 139, 145, 158, 164, 235, 249, 275, 292, 294, 297, 315, 321,\n",
      "            411, 617],\n",
      "           dtype='int64')\n"
     ]
    }
   ],
   "source": [
    "#Imprimimos la informacion del dataframe para ver posibles ubicaciones de los datos faltantes\n",
    "print(Cancer.info())\n",
    "#La info es muy util ya que se observa que todas las columnas excepto la 6 o ND son de tipo numerico\n",
    "#Esto indica que ND es del tipo string y ahi es donde deben estar los datos faltantes\n",
    "\n",
    "#buscamos en la columna ND del dataframe el caracter ? (despues de ver el dataframe sabemos que eso denota el dato faltante)\n",
    "#esta buysqueda se hace con la funcion contains()\n",
    "Perdidos = Cancer[Cancer['ND'].str.contains('\\?')]\n",
    "print(Perdidos)\n",
    "\n",
    "indicesPerdidos = Cancer[Cancer['ND'].str.contains('\\?')].index\n",
    "print(indicesPerdidos)"
   ]
  },
  {
   "cell_type": "markdown",
   "metadata": {},
   "source": [
    "Vemos que las filas de los datos faltantes hay 2 que son cancer y 14 que no lo son, esta proporcion puede desnivelar las predicciones favoreciendo al cancer. Esto se discute mas adelante. Por lo pronto supondremos que esos datos nunca existieron."
   ]
  },
  {
   "cell_type": "code",
   "execution_count": 3,
   "metadata": {},
   "outputs": [
    {
     "name": "stdout",
     "output_type": "stream",
     "text": [
      "<class 'pandas.core.frame.DataFrame'>\n",
      "Int64Index: 683 entries, 0 to 698\n",
      "Data columns (total 11 columns):\n",
      " #   Column  Non-Null Count  Dtype \n",
      "---  ------  --------------  ----- \n",
      " 0   ID      683 non-null    int64 \n",
      " 1   G       683 non-null    int64 \n",
      " 2   UT      683 non-null    int64 \n",
      " 3   UF      683 non-null    int64 \n",
      " 4   A       683 non-null    int64 \n",
      " 5   T       683 non-null    int64 \n",
      " 6   ND      683 non-null    object\n",
      " 7   Cr      683 non-null    int64 \n",
      " 8   NN      683 non-null    int64 \n",
      " 9   M       683 non-null    int64 \n",
      " 10  C       683 non-null    int64 \n",
      "dtypes: int64(10), object(1)\n",
      "memory usage: 64.0+ KB\n"
     ]
    }
   ],
   "source": [
    "Cancer1 = pd.DataFrame(Cancer.drop(indicesPerdidos))\n",
    "Cancer1.info()"
   ]
  },
  {
   "cell_type": "code",
   "execution_count": 4,
   "metadata": {},
   "outputs": [
    {
     "data": {
      "text/plain": [
       "Int64Index([], dtype='int64')"
      ]
     },
     "execution_count": 4,
     "metadata": {},
     "output_type": "execute_result"
    }
   ],
   "source": [
    "indicesPerdidos1 = Cancer1[Cancer1['ND'].str.contains('\\?')].index\n",
    "indicesPerdidos1"
   ]
  },
  {
   "cell_type": "code",
   "execution_count": 5,
   "metadata": {},
   "outputs": [
    {
     "data": {
      "text/html": [
       "<div>\n",
       "<style scoped>\n",
       "    .dataframe tbody tr th:only-of-type {\n",
       "        vertical-align: middle;\n",
       "    }\n",
       "\n",
       "    .dataframe tbody tr th {\n",
       "        vertical-align: top;\n",
       "    }\n",
       "\n",
       "    .dataframe thead th {\n",
       "        text-align: right;\n",
       "    }\n",
       "</style>\n",
       "<table border=\"1\" class=\"dataframe\">\n",
       "  <thead>\n",
       "    <tr style=\"text-align: right;\">\n",
       "      <th></th>\n",
       "      <th>ID</th>\n",
       "      <th>G</th>\n",
       "      <th>UT</th>\n",
       "      <th>UF</th>\n",
       "      <th>A</th>\n",
       "      <th>T</th>\n",
       "      <th>ND</th>\n",
       "      <th>Cr</th>\n",
       "      <th>NN</th>\n",
       "      <th>M</th>\n",
       "      <th>C</th>\n",
       "    </tr>\n",
       "  </thead>\n",
       "  <tbody>\n",
       "    <tr>\n",
       "      <th>0</th>\n",
       "      <td>1000025</td>\n",
       "      <td>5</td>\n",
       "      <td>1</td>\n",
       "      <td>1</td>\n",
       "      <td>1</td>\n",
       "      <td>2</td>\n",
       "      <td>1</td>\n",
       "      <td>3</td>\n",
       "      <td>1</td>\n",
       "      <td>1</td>\n",
       "      <td>2</td>\n",
       "    </tr>\n",
       "    <tr>\n",
       "      <th>1</th>\n",
       "      <td>1002945</td>\n",
       "      <td>5</td>\n",
       "      <td>4</td>\n",
       "      <td>4</td>\n",
       "      <td>5</td>\n",
       "      <td>7</td>\n",
       "      <td>10</td>\n",
       "      <td>3</td>\n",
       "      <td>2</td>\n",
       "      <td>1</td>\n",
       "      <td>2</td>\n",
       "    </tr>\n",
       "    <tr>\n",
       "      <th>2</th>\n",
       "      <td>1015425</td>\n",
       "      <td>3</td>\n",
       "      <td>1</td>\n",
       "      <td>1</td>\n",
       "      <td>1</td>\n",
       "      <td>2</td>\n",
       "      <td>2</td>\n",
       "      <td>3</td>\n",
       "      <td>1</td>\n",
       "      <td>1</td>\n",
       "      <td>2</td>\n",
       "    </tr>\n",
       "    <tr>\n",
       "      <th>3</th>\n",
       "      <td>1016277</td>\n",
       "      <td>6</td>\n",
       "      <td>8</td>\n",
       "      <td>8</td>\n",
       "      <td>1</td>\n",
       "      <td>3</td>\n",
       "      <td>4</td>\n",
       "      <td>3</td>\n",
       "      <td>7</td>\n",
       "      <td>1</td>\n",
       "      <td>2</td>\n",
       "    </tr>\n",
       "    <tr>\n",
       "      <th>4</th>\n",
       "      <td>1017023</td>\n",
       "      <td>4</td>\n",
       "      <td>1</td>\n",
       "      <td>1</td>\n",
       "      <td>3</td>\n",
       "      <td>2</td>\n",
       "      <td>1</td>\n",
       "      <td>3</td>\n",
       "      <td>1</td>\n",
       "      <td>1</td>\n",
       "      <td>2</td>\n",
       "    </tr>\n",
       "    <tr>\n",
       "      <th>...</th>\n",
       "      <td>...</td>\n",
       "      <td>...</td>\n",
       "      <td>...</td>\n",
       "      <td>...</td>\n",
       "      <td>...</td>\n",
       "      <td>...</td>\n",
       "      <td>...</td>\n",
       "      <td>...</td>\n",
       "      <td>...</td>\n",
       "      <td>...</td>\n",
       "      <td>...</td>\n",
       "    </tr>\n",
       "    <tr>\n",
       "      <th>694</th>\n",
       "      <td>776715</td>\n",
       "      <td>3</td>\n",
       "      <td>1</td>\n",
       "      <td>1</td>\n",
       "      <td>1</td>\n",
       "      <td>3</td>\n",
       "      <td>2</td>\n",
       "      <td>1</td>\n",
       "      <td>1</td>\n",
       "      <td>1</td>\n",
       "      <td>2</td>\n",
       "    </tr>\n",
       "    <tr>\n",
       "      <th>695</th>\n",
       "      <td>841769</td>\n",
       "      <td>2</td>\n",
       "      <td>1</td>\n",
       "      <td>1</td>\n",
       "      <td>1</td>\n",
       "      <td>2</td>\n",
       "      <td>1</td>\n",
       "      <td>1</td>\n",
       "      <td>1</td>\n",
       "      <td>1</td>\n",
       "      <td>2</td>\n",
       "    </tr>\n",
       "    <tr>\n",
       "      <th>696</th>\n",
       "      <td>888820</td>\n",
       "      <td>5</td>\n",
       "      <td>10</td>\n",
       "      <td>10</td>\n",
       "      <td>3</td>\n",
       "      <td>7</td>\n",
       "      <td>3</td>\n",
       "      <td>8</td>\n",
       "      <td>10</td>\n",
       "      <td>2</td>\n",
       "      <td>4</td>\n",
       "    </tr>\n",
       "    <tr>\n",
       "      <th>697</th>\n",
       "      <td>897471</td>\n",
       "      <td>4</td>\n",
       "      <td>8</td>\n",
       "      <td>6</td>\n",
       "      <td>4</td>\n",
       "      <td>3</td>\n",
       "      <td>4</td>\n",
       "      <td>10</td>\n",
       "      <td>6</td>\n",
       "      <td>1</td>\n",
       "      <td>4</td>\n",
       "    </tr>\n",
       "    <tr>\n",
       "      <th>698</th>\n",
       "      <td>897471</td>\n",
       "      <td>4</td>\n",
       "      <td>8</td>\n",
       "      <td>8</td>\n",
       "      <td>5</td>\n",
       "      <td>4</td>\n",
       "      <td>5</td>\n",
       "      <td>10</td>\n",
       "      <td>4</td>\n",
       "      <td>1</td>\n",
       "      <td>4</td>\n",
       "    </tr>\n",
       "  </tbody>\n",
       "</table>\n",
       "<p>683 rows × 11 columns</p>\n",
       "</div>"
      ],
      "text/plain": [
       "          ID  G  UT  UF  A  T  ND  Cr  NN  M  C\n",
       "0    1000025  5   1   1  1  2   1   3   1  1  2\n",
       "1    1002945  5   4   4  5  7  10   3   2  1  2\n",
       "2    1015425  3   1   1  1  2   2   3   1  1  2\n",
       "3    1016277  6   8   8  1  3   4   3   7  1  2\n",
       "4    1017023  4   1   1  3  2   1   3   1  1  2\n",
       "..       ... ..  ..  .. .. ..  ..  ..  .. .. ..\n",
       "694   776715  3   1   1  1  3   2   1   1  1  2\n",
       "695   841769  2   1   1  1  2   1   1   1  1  2\n",
       "696   888820  5  10  10  3  7   3   8  10  2  4\n",
       "697   897471  4   8   6  4  3   4  10   6  1  4\n",
       "698   897471  4   8   8  5  4   5  10   4  1  4\n",
       "\n",
       "[683 rows x 11 columns]"
      ]
     },
     "execution_count": 5,
     "metadata": {},
     "output_type": "execute_result"
    }
   ],
   "source": [
    "Cancer1['ND'] = pd.to_numeric(Cancer1['ND'])\n",
    "Cancer1"
   ]
  },
  {
   "cell_type": "code",
   "execution_count": 6,
   "metadata": {},
   "outputs": [],
   "source": [
    "#Definimos nuestros conjuntos de entrenamiento y validacion\n",
    "#train se construye a partir de la funcion sample() donde frac es el porcentaje de los datos\n",
    "#random_state es la semilla del numero aleatorio, esta funcion por default tiene desactivado\n",
    "#el ingreso de datos por reemplazo, es decir no se pueden repetir filas\n",
    "#el conjunto test se construye a partir del train quitando todos los indices que tiene train,\n",
    "#es decir hace una operacion de conjuntos del conjunto universo Spam resta el conjunto train \n",
    "#y guarda lo que resta en test\n",
    "train = Cancer1.sample(frac=0.7,random_state=0)\n",
    "test = Cancer1.drop(train.index)\n",
    "#reseteamos los indices con la funcion reset_index. drop=True lo usamos para evitar que se\n",
    "#anada una columna del indice anterior\n",
    "train.reset_index(drop=True,inplace=True)\n",
    "test.reset_index(drop=True,inplace=True)\n",
    "\n",
    "Train = pd.DataFrame(train)\n",
    "Test = pd.DataFrame(test)"
   ]
  },
  {
   "cell_type": "code",
   "execution_count": 7,
   "metadata": {},
   "outputs": [],
   "source": [
    "#creamos las matrices numpy X,Y de entrenamiento y test\n",
    "X_train = pd.DataFrame(Train.loc[:,'G':'M']).to_numpy()\n",
    "Y_train = pd.DataFrame(Train[['C']]).to_numpy()\n",
    "\n",
    "\n",
    "X_test = pd.DataFrame(Test.loc[:,'G':'M']).to_numpy()\n",
    "Y_test = pd.DataFrame(Test[['C']]).to_numpy()"
   ]
  },
  {
   "cell_type": "code",
   "execution_count": 8,
   "metadata": {},
   "outputs": [
    {
     "name": "stdout",
     "output_type": "stream",
     "text": [
      "El conjunto de entrenamiento tiene 478 muestras.\n",
      "El conjunto de validacion tiene 205 muestras.\n"
     ]
    }
   ],
   "source": [
    "print('El conjunto de entrenamiento tiene %d muestras.' %X_train.shape[0])\n",
    "print('El conjunto de validacion tiene %d muestras.' %X_test.shape[0])"
   ]
  },
  {
   "cell_type": "markdown",
   "metadata": {},
   "source": [
    "## Con una distribucion Categorica para todos los eventos:"
   ]
  },
  {
   "cell_type": "code",
   "execution_count": 9,
   "metadata": {},
   "outputs": [
    {
     "data": {
      "text/plain": [
       "CategoricalNB(alpha=1.0, class_prior=None, fit_prior=True)"
      ]
     },
     "execution_count": 9,
     "metadata": {},
     "output_type": "execute_result"
    }
   ],
   "source": [
    "#Ajustamos a un clasificador Naive Bayes de distribuciones Categoricas\n",
    "Cat = CategoricalNB()\n",
    "Cat.fit(X_train,Y_train.ravel())"
   ]
  },
  {
   "cell_type": "code",
   "execution_count": 10,
   "metadata": {},
   "outputs": [
    {
     "data": {
      "text/plain": [
       "array([2, 2, 4, 4, 2, 2, 2, 4, 2, 2, 4, 2, 4, 2, 2, 2, 4, 4, 4, 2, 2, 2,\n",
       "       4, 2, 4, 4, 2, 2, 2, 4, 2, 4, 4, 2, 2, 2, 4, 4, 2, 4, 2, 2, 2, 2,\n",
       "       2, 2, 2, 4, 2, 2, 4, 2, 4, 2, 2, 2, 4, 4, 2, 4, 2, 2, 2, 2, 2, 2,\n",
       "       2, 2, 4, 4, 2, 2, 2, 2, 2, 2, 4, 2, 2, 2, 4, 2, 4, 2, 2, 4, 2, 4,\n",
       "       4, 2, 4, 2, 4, 4, 4, 4, 4, 4, 4, 2, 2, 2, 4, 4, 2, 2, 4, 2, 2, 2,\n",
       "       4, 2, 2, 4, 2, 2, 2, 4, 2, 2, 2, 4, 2, 2, 4, 4, 2, 4, 2, 4, 2, 2,\n",
       "       4, 2, 2, 4, 2, 2, 2, 2, 2, 4, 2, 2, 2, 4, 4, 2, 4, 2, 4, 4, 2, 2,\n",
       "       2, 2, 4, 4, 2, 4, 4, 4, 4, 4, 4, 2, 2, 2, 2, 2, 2, 4, 4, 4, 2, 2,\n",
       "       2, 4, 2, 2, 4, 4, 2, 4, 2, 2, 4, 4, 2, 2, 2, 2, 2, 2, 2, 2, 2, 2,\n",
       "       4, 2, 2, 2, 2, 2, 4, 4, 2, 4, 2, 4, 4, 4, 2, 2, 2, 2, 4, 4, 2, 2,\n",
       "       4, 4, 2, 2, 4, 4, 2, 4, 2, 4, 4, 2, 2, 2, 4, 2, 4, 2, 4, 2, 2, 2,\n",
       "       2, 2, 4, 2, 2, 4, 2, 2, 4, 2, 2, 2, 2, 2, 4, 2, 2, 4, 2, 4, 2, 2,\n",
       "       4, 4, 4, 2, 2, 2, 2, 2, 2, 4, 4, 2, 2, 2, 4, 2, 2, 2, 4, 2, 2, 4,\n",
       "       2, 2, 2, 2, 2, 2, 2, 4, 2, 2, 2, 4, 4, 2, 4, 2, 2, 2, 4, 2, 2, 2,\n",
       "       4, 4, 2, 4, 2, 2, 4, 2, 2, 2, 2, 2, 2, 2, 4, 4, 4, 4, 2, 4, 2, 4,\n",
       "       2, 4, 4, 4, 2, 2, 4, 2, 2, 2, 2, 4, 4, 2, 2, 2, 4, 2, 2, 4, 2, 2,\n",
       "       2, 2, 4, 4, 2, 2, 4, 2, 2, 2, 2, 2, 2, 2, 2, 4, 2, 4, 2, 2, 2, 2,\n",
       "       2, 2, 4, 4, 4, 4, 2, 2, 4, 2, 4, 2, 4, 2, 2, 2, 2, 4, 2, 4, 2, 2,\n",
       "       2, 4, 2, 2, 2, 4, 2, 2, 2, 2, 2, 2, 2, 4, 2, 4, 2, 2, 2, 4, 2, 2,\n",
       "       2, 2, 2, 4, 2, 2, 2, 2, 4, 2, 2, 4, 2, 2, 2, 2, 4, 4, 2, 2, 2, 2,\n",
       "       4, 2, 2, 4, 2, 2, 2, 2, 4, 4, 2, 4, 2, 4, 2, 2, 2, 4, 4, 4, 2, 2,\n",
       "       2, 2, 2, 2, 2, 2, 4, 4, 2, 2, 2, 2, 2, 4, 2, 4], dtype=int64)"
      ]
     },
     "execution_count": 10,
     "metadata": {},
     "output_type": "execute_result"
    }
   ],
   "source": [
    "#predecimos las salidas de los datos de entrenamiento con nuestro modelo\n",
    "Y_pred_train = Cat.predict(X_train)\n",
    "Y_pred_train"
   ]
  },
  {
   "cell_type": "code",
   "execution_count": 11,
   "metadata": {},
   "outputs": [
    {
     "name": "stdout",
     "output_type": "stream",
     "text": [
      "[[2 2 4 4 2 2 2 4 2 2 4 2 4 2 2 2 4 4 4 2 2 2 4 2 4 4 2 2 2 4 2 4 4 2 2 2\n",
      "  4 4 2 4 2 2 2 2 2 2 2 4 2 2 4 2 4 2 2 2 4 2 2 4 2 2 2 2 2 2 2 2 4 4 2 2\n",
      "  2 2 2 2 4 2 2 2 4 2 4 2 2 4 2 2 4 2 4 2 4 4 4 2 4 4 4 2 2 2 4 4 2 2 4 4\n",
      "  2 2 4 2 2 4 2 2 2 4 2 2 2 4 2 2 4 4 2 4 2 4 2 2 4 2 2 4 2 4 2 2 2 4 2 2\n",
      "  2 2 4 2 4 2 4 4 2 2 2 2 4 4 2 4 4 4 4 4 4 2 2 2 2 2 2 4 4 4 2 2 2 4 2 2\n",
      "  4 4 2 4 2 2 4 4 2 2 2 2 2 2 2 2 2 2 4 2 2 2 2 2 4 4 2 4 2 2 2 4 2 2 2 2\n",
      "  4 4 2 2 4 4 2 2 4 4 2 4 2 4 4 2 2 2 4 2 4 2 4 2 2 2 2 2 4 2 2 4 2 2 4 2\n",
      "  2 2 2 2 4 2 2 4 2 4 2 2 4 4 4 2 2 2 2 2 2 4 4 2 2 2 2 2 2 2 4 2 2 4 2 2\n",
      "  2 2 2 2 2 4 2 2 2 4 4 2 4 2 2 2 4 2 2 2 4 4 2 4 2 2 4 2 2 2 2 2 2 2 4 4\n",
      "  4 4 2 4 2 4 2 4 4 4 2 2 4 2 2 2 2 4 4 2 2 2 4 2 2 4 2 2 2 2 4 4 2 2 2 2\n",
      "  2 2 2 2 2 2 2 4 2 4 2 2 2 2 2 2 4 4 4 4 2 2 4 2 4 2 4 2 2 2 2 4 2 4 2 2\n",
      "  2 2 4 2 2 4 2 2 2 2 2 2 2 4 2 4 2 2 2 4 2 2 2 2 2 4 2 2 2 2 4 2 2 4 2 2\n",
      "  2 2 4 4 2 2 2 2 4 2 2 4 2 2 2 2 4 4 2 4 2 4 2 2 2 4 4 4 2 2 2 2 2 2 2 2\n",
      "  4 4 2 2 2 2 2 2 2 4]]\n"
     ]
    }
   ],
   "source": [
    "#Imprimimos las salidas reales\n",
    "print(Y_train.T)"
   ]
  },
  {
   "cell_type": "code",
   "execution_count": 12,
   "metadata": {},
   "outputs": [
    {
     "name": "stdout",
     "output_type": "stream",
     "text": [
      "La exactitud relativa del modelo es 0.97280, para la prediccion de los datos de entrenamiento\n",
      "La cantidad de errores de un total de 478 muestras es : 13\n",
      "Estos errores representan el 2.72 porciento\n"
     ]
    }
   ],
   "source": [
    "#Imprimimos las estadisticas\n",
    "print('La exactitud relativa del modelo es %.5f, para la prediccion de los datos de entrenamiento' %accuracy_score(Y_train,Y_pred_train))\n",
    "print('La cantidad de errores de un total de %d muestras es : %d' % (X_train.shape[0], (Y_train.T != Y_pred_train).sum()))\n",
    "print('Estos errores representan el %.2f porciento' %(100*((Y_train.T != Y_pred_train).sum()/X_train.shape[0] )))"
   ]
  },
  {
   "cell_type": "code",
   "execution_count": 13,
   "metadata": {},
   "outputs": [
    {
     "data": {
      "text/plain": [
       "array([2, 2, 2, 2, 4, 2, 2, 2, 2, 2, 2, 4, 2, 4, 4, 2, 4, 4, 4, 4, 4, 4,\n",
       "       2, 2, 4, 2, 2, 4, 4, 2, 2, 2, 2, 2, 2, 4, 2, 4, 4, 4, 2, 2, 4, 2,\n",
       "       2, 2, 4, 2, 2, 2, 4, 2, 4, 4, 2, 4, 2, 2, 4, 2, 4, 4, 4, 2, 4, 2,\n",
       "       2, 4, 2, 2, 4, 4, 4, 2, 4, 4, 4, 4, 2, 4, 2, 4, 2, 4, 2, 4, 4, 4,\n",
       "       2, 4, 4, 4, 4, 4, 2, 4, 4, 4, 2, 4, 2, 4, 2, 2, 2, 4, 4, 2, 2, 2,\n",
       "       4, 2, 4, 2, 2, 4, 2, 2, 2, 2, 2, 2, 4, 2, 2, 2, 2, 2, 2, 2, 2, 2,\n",
       "       4, 2, 2, 4, 2, 2, 2, 2, 4, 2, 4, 4, 2, 2, 2, 4, 2, 2, 4, 2, 4, 2,\n",
       "       2, 4, 2, 2, 4, 2, 2, 2, 2, 2, 2, 2, 2, 4, 2, 4, 4, 4, 2, 2, 2, 4,\n",
       "       2, 2, 4, 2, 4, 2, 2, 4, 2, 2, 2, 2, 2, 2, 4, 2, 2, 2, 2, 4, 2, 2,\n",
       "       4, 2, 2, 2, 2, 2, 2], dtype=int64)"
      ]
     },
     "execution_count": 13,
     "metadata": {},
     "output_type": "execute_result"
    }
   ],
   "source": [
    "#Predecimos las salidas de los datos de validacion con nuestro modelo y las imprimimos\n",
    "Y_pred_test = Cat.predict(X_test)\n",
    "Y_pred_test"
   ]
  },
  {
   "cell_type": "code",
   "execution_count": 14,
   "metadata": {},
   "outputs": [
    {
     "name": "stdout",
     "output_type": "stream",
     "text": [
      "[[2 2 2 2 4 2 2 2 2 2 2 4 2 4 4 2 4 4 4 4 4 4 2 2 4 2 2 4 4 2 2 2 2 2 2 4\n",
      "  4 4 4 4 2 2 4 2 2 2 4 2 2 2 4 2 4 4 2 4 2 2 4 2 4 4 4 2 4 2 2 4 2 2 4 4\n",
      "  4 4 4 4 2 4 2 4 2 2 2 4 2 4 4 4 2 4 4 4 4 4 2 4 4 4 2 4 2 4 2 2 2 4 4 2\n",
      "  2 2 4 2 4 2 2 4 2 2 2 2 2 2 4 2 2 2 2 2 2 2 2 2 4 2 2 4 2 2 2 2 4 2 4 4\n",
      "  2 2 2 4 2 2 4 2 4 2 2 4 2 2 4 2 2 2 2 2 2 2 2 4 2 4 4 4 2 2 2 4 2 2 4 2\n",
      "  4 2 2 4 2 2 2 2 2 2 4 2 2 2 2 2 2 2 4 2 2 2 2 2 2]]\n"
     ]
    }
   ],
   "source": [
    "#Imprimimos la salida real\n",
    "print(Y_test.T)"
   ]
  },
  {
   "cell_type": "code",
   "execution_count": 15,
   "metadata": {},
   "outputs": [
    {
     "name": "stdout",
     "output_type": "stream",
     "text": [
      "La exactitud relativa del modelo es 0.97561, para la prediccion de los datos de validacion\n",
      "La cantidad de errores de un total de 205 muestras es : 5\n",
      "Estos errores representan el 2.44 porciento\n"
     ]
    }
   ],
   "source": [
    "#Imprimimos las estadisticas\n",
    "print('La exactitud relativa del modelo es %.5f, para la prediccion de los datos de validacion' %accuracy_score(Y_test,Y_pred_test))\n",
    "print('La cantidad de errores de un total de %d muestras es : %d' % (X_test.shape[0], (Y_test.T != Y_pred_test).sum()))\n",
    "print('Estos errores representan el %.2f porciento' %(100*((Y_test.T != Y_pred_test).sum()/X_test.shape[0] )))"
   ]
  },
  {
   "cell_type": "markdown",
   "metadata": {},
   "source": [
    "## Con una Multinomial para todos los eventos:"
   ]
  },
  {
   "cell_type": "code",
   "execution_count": 16,
   "metadata": {},
   "outputs": [
    {
     "data": {
      "text/plain": [
       "MultinomialNB(alpha=1.0, class_prior=None, fit_prior=True)"
      ]
     },
     "execution_count": 16,
     "metadata": {},
     "output_type": "execute_result"
    }
   ],
   "source": [
    "#Modelamos nuestro naive bayes con una multinomial y ajustamos datos\n",
    "Multi = MultinomialNB()\n",
    "Multi.fit(X_train,Y_train.ravel())"
   ]
  },
  {
   "cell_type": "code",
   "execution_count": 17,
   "metadata": {},
   "outputs": [
    {
     "data": {
      "text/plain": [
       "array([4, 2, 4, 4, 2, 2, 2, 4, 4, 2, 4, 2, 2, 2, 2, 2, 4, 4, 2, 2, 2, 2,\n",
       "       4, 2, 4, 4, 2, 2, 2, 2, 2, 4, 4, 2, 2, 2, 4, 4, 2, 4, 2, 2, 2, 2,\n",
       "       2, 2, 2, 4, 2, 2, 4, 2, 4, 2, 2, 2, 4, 4, 2, 4, 2, 2, 2, 2, 2, 2,\n",
       "       2, 2, 4, 2, 2, 2, 2, 2, 2, 2, 2, 2, 2, 2, 4, 2, 4, 2, 2, 4, 2, 4,\n",
       "       4, 2, 4, 2, 4, 2, 4, 4, 4, 4, 2, 2, 2, 2, 4, 4, 2, 4, 4, 2, 2, 2,\n",
       "       4, 2, 2, 4, 2, 2, 2, 4, 2, 2, 2, 4, 2, 2, 4, 4, 4, 4, 2, 4, 2, 2,\n",
       "       4, 2, 2, 4, 2, 2, 2, 2, 2, 2, 2, 2, 2, 4, 4, 2, 2, 2, 4, 2, 2, 2,\n",
       "       2, 2, 4, 4, 2, 4, 4, 4, 4, 2, 2, 2, 2, 2, 2, 2, 2, 4, 4, 4, 2, 2,\n",
       "       2, 4, 2, 2, 4, 2, 2, 2, 4, 2, 4, 4, 2, 2, 2, 2, 2, 2, 2, 2, 2, 2,\n",
       "       4, 2, 2, 2, 2, 2, 4, 4, 2, 4, 2, 4, 2, 4, 2, 2, 2, 2, 4, 4, 2, 2,\n",
       "       2, 4, 2, 2, 4, 4, 2, 4, 2, 4, 2, 2, 2, 2, 4, 2, 2, 2, 4, 2, 2, 2,\n",
       "       2, 2, 4, 2, 2, 4, 2, 2, 4, 2, 2, 2, 2, 2, 4, 2, 2, 4, 2, 2, 2, 2,\n",
       "       4, 4, 4, 2, 2, 2, 4, 2, 2, 4, 4, 2, 2, 2, 4, 2, 2, 2, 4, 2, 2, 4,\n",
       "       2, 2, 2, 2, 2, 2, 2, 2, 2, 2, 2, 4, 4, 2, 4, 2, 2, 2, 4, 2, 2, 2,\n",
       "       4, 4, 2, 4, 2, 2, 4, 2, 2, 2, 2, 2, 2, 2, 4, 4, 4, 4, 2, 4, 2, 4,\n",
       "       2, 4, 4, 4, 2, 2, 2, 2, 2, 2, 2, 4, 4, 2, 2, 2, 4, 2, 4, 4, 2, 2,\n",
       "       2, 2, 2, 4, 2, 2, 4, 2, 2, 2, 2, 2, 2, 2, 2, 4, 2, 4, 2, 2, 2, 2,\n",
       "       2, 2, 2, 4, 4, 2, 2, 2, 4, 2, 4, 2, 4, 2, 2, 2, 4, 4, 2, 4, 2, 2,\n",
       "       2, 4, 2, 2, 2, 4, 2, 2, 2, 2, 2, 2, 2, 2, 2, 4, 2, 2, 2, 2, 2, 2,\n",
       "       2, 2, 2, 2, 2, 2, 2, 2, 4, 2, 2, 2, 2, 2, 2, 2, 4, 4, 2, 2, 2, 2,\n",
       "       2, 2, 2, 4, 2, 2, 2, 2, 4, 4, 2, 4, 2, 4, 2, 2, 2, 4, 4, 4, 2, 2,\n",
       "       2, 2, 2, 2, 2, 4, 4, 4, 2, 2, 2, 2, 2, 2, 2, 4], dtype=int64)"
      ]
     },
     "execution_count": 17,
     "metadata": {},
     "output_type": "execute_result"
    }
   ],
   "source": [
    "#predecimos las salidas de los datos de entrenamiento con nuestro modelo\n",
    "Y_pred_train_multi = Multi.predict(X_train)\n",
    "Y_pred_train_multi"
   ]
  },
  {
   "cell_type": "code",
   "execution_count": 18,
   "metadata": {},
   "outputs": [
    {
     "name": "stdout",
     "output_type": "stream",
     "text": [
      "La exactitud relativa del modelo es 0.89958, para la prediccion de los datos de entrenamiento\n",
      "La cantidad de errores de un total de 478 muestras es : 48\n",
      "Estos errores representan el 10.04 porciento\n"
     ]
    }
   ],
   "source": [
    "#Imprimimos las estadisticas\n",
    "print('La exactitud relativa del modelo es %.5f, para la prediccion de los datos de entrenamiento' %accuracy_score(Y_train,Y_pred_train_multi))\n",
    "print('La cantidad de errores de un total de %d muestras es : %d' % (X_train.shape[0], (Y_train.T != Y_pred_train_multi).sum()))\n",
    "print('Estos errores representan el %.2f porciento' %(100*((Y_train.T != Y_pred_train_multi).sum()/X_train.shape[0] )))"
   ]
  },
  {
   "cell_type": "code",
   "execution_count": 19,
   "metadata": {},
   "outputs": [
    {
     "data": {
      "text/plain": [
       "array([2, 2, 2, 2, 4, 2, 2, 2, 2, 2, 2, 4, 2, 2, 2, 2, 4, 4, 4, 2, 4, 2,\n",
       "       2, 2, 2, 2, 2, 4, 4, 2, 2, 2, 2, 2, 2, 2, 4, 4, 4, 4, 2, 2, 4, 2,\n",
       "       2, 2, 4, 2, 2, 2, 2, 2, 2, 4, 2, 4, 2, 2, 4, 2, 4, 4, 4, 2, 4, 2,\n",
       "       2, 4, 2, 2, 4, 4, 4, 4, 4, 4, 2, 4, 2, 4, 2, 4, 2, 2, 2, 4, 2, 2,\n",
       "       2, 4, 4, 4, 4, 4, 2, 2, 4, 4, 2, 4, 2, 4, 2, 2, 2, 2, 4, 2, 2, 2,\n",
       "       4, 2, 4, 2, 4, 4, 2, 2, 2, 2, 2, 2, 4, 2, 2, 2, 2, 2, 2, 2, 2, 2,\n",
       "       4, 2, 2, 4, 2, 2, 2, 2, 4, 2, 4, 4, 2, 2, 2, 4, 2, 2, 4, 2, 4, 2,\n",
       "       2, 2, 2, 2, 4, 2, 2, 2, 2, 2, 2, 2, 2, 4, 2, 4, 4, 4, 2, 2, 2, 4,\n",
       "       2, 2, 4, 2, 4, 2, 2, 4, 2, 2, 2, 2, 2, 4, 4, 2, 2, 2, 2, 2, 2, 2,\n",
       "       2, 2, 2, 2, 2, 2, 2], dtype=int64)"
      ]
     },
     "execution_count": 19,
     "metadata": {},
     "output_type": "execute_result"
    }
   ],
   "source": [
    "#Predecimos las salidas de los datos de validacion con nuestro modelo y las imprimimos\n",
    "Y_pred_test_multi = Multi.predict(X_test)\n",
    "Y_pred_test_multi"
   ]
  },
  {
   "cell_type": "code",
   "execution_count": 20,
   "metadata": {},
   "outputs": [
    {
     "name": "stdout",
     "output_type": "stream",
     "text": [
      "La exactitud relativa del modelo es 0.91220, para la prediccion de los datos de validacion\n",
      "La cantidad de errores de un total de 205 muestras es : 18\n",
      "Estos errores representan el 8.78 porciento\n"
     ]
    }
   ],
   "source": [
    "#Imprimimos las estadisticas\n",
    "print('La exactitud relativa del modelo es %.5f, para la prediccion de los datos de validacion' %accuracy_score(Y_test,Y_pred_test_multi))\n",
    "print('La cantidad de errores de un total de %d muestras es : %d' % (X_test.shape[0], (Y_test.T != Y_pred_test_multi).sum()))\n",
    "print('Estos errores representan el %.2f porciento' %(100*((Y_test.T != Y_pred_test_multi).sum()/X_test.shape[0] )))"
   ]
  },
  {
   "cell_type": "markdown",
   "metadata": {},
   "source": [
    "Vemos que asumiendo distribucion Categorica obtenemos mejores resultados que asumir una multinomial. Ya que la cantidad de error de la prediccion de los datos de prueba y validacion es mucho menor.\n",
    "Por otro lado nuestro clasificador con Categoricas tiene un buen rendimiento en ambos conjuntos de datos, obteniendo un porcentaje de error menor al 3% en ambos casos."
   ]
  },
  {
   "cell_type": "markdown",
   "metadata": {},
   "source": [
    "## Estimacion de valores perdidos."
   ]
  },
  {
   "cell_type": "markdown",
   "metadata": {},
   "source": [
    "Ya vimos que todos los datos faltantes corresponden a la columna de nucleos desnudos. Proponemos dos formas de estimarlos. La primera de ellas consiste en separar los datos entre maligno y benigno, y obtener las medias para cada par de conjuntos y con ese dato rellenar los datos faltantes.\n",
    "La otra consiste en separar los datos entre maligno y benigno, observar la correlacion entre la variable nucleos desnudos y las otras 8 variables, para despues realizar una estimacion lineal y rellenar los valores segun el dato de la otra variable al ingresar los valores de dicha variable en la regresion lineal.\n",
    "Las suposiciones fuertes son que la variable nucleos desnudos es continua y suave. "
   ]
  },
  {
   "cell_type": "markdown",
   "metadata": {},
   "source": [
    "### Division de los conjuntos"
   ]
  },
  {
   "cell_type": "code",
   "execution_count": 21,
   "metadata": {},
   "outputs": [
    {
     "name": "stdout",
     "output_type": "stream",
     "text": [
      "Hay 458 muestras de benigno y 241 muestras de maligno. Ya lo sabiamos e.e\n"
     ]
    }
   ],
   "source": [
    "#Sobre la columna 'C' (de cancer) buscamos los valores que contengan el numero 2,\n",
    "#es decir que sean benignos y lo hacemos un dataframe\n",
    "Benigno = pd.DataFrame(Cancer.loc[Cancer['C'] == 2])\n",
    "\n",
    "#Sobre la columna 'C' (de cancer) buscamos los valores que contengan el numero 4,\n",
    "#es decir que sean malignos y lo hacemos un dataframe\n",
    "Maligno = pd.DataFrame(Cancer.loc[Cancer['C'] == 4])\n",
    "\n",
    "print('Hay %d muestras de benigno y %d muestras de maligno. Ya lo sabiamos e.e' %(Benigno.shape[0],Maligno.shape[0]))"
   ]
  },
  {
   "cell_type": "markdown",
   "metadata": {},
   "source": [
    "### Promedios y valores esperados"
   ]
  },
  {
   "cell_type": "code",
   "execution_count": 22,
   "metadata": {},
   "outputs": [
    {
     "name": "stdout",
     "output_type": "stream",
     "text": [
      "1.3468468468468469 7.627615062761507\n",
      "Int64Index([40, 139, 145, 158, 164, 235, 249, 275, 294, 297, 315, 321, 411,\n",
      "            617],\n",
      "           dtype='int64')\n",
      "Int64Index([23, 292], dtype='int64')\n"
     ]
    }
   ],
   "source": [
    "#Guardamos en una variable los indices tales que la columna 'ND' contenga valores ?\n",
    "#Para los dos casos Maligno y Benigno\n",
    "indices_ben = Benigno[Benigno['ND'].str.contains('\\?')].index\n",
    "indices_mal = Maligno[Maligno['ND'].str.contains('\\?')].index\n",
    "\n",
    "#Calculamos la media de la columna 'ND' sin considerar los valores ? para el caso de Benigno\n",
    "#La guardamos en la variable media_ben\n",
    "media_ben = pd.DataFrame(Benigno.drop(indices_ben))\n",
    "media_ben['ND'] = pd.to_numeric(media_ben['ND'])\n",
    "media_ben = media_ben['ND'].mean()\n",
    "\n",
    "#Calculamos la media de la columna 'ND' sin considerar los valores ? para el caso de Maligno\n",
    "#La guardamos en la variable media_mal\n",
    "media_mal = pd.DataFrame(Maligno.drop(indices_mal))\n",
    "media_mal['ND'] = pd.to_numeric(media_mal['ND'])\n",
    "media_mal = media_mal['ND'].mean()\n",
    "\n",
    "#Imprimimos los valores recien calculados\n",
    "print(media_ben,media_mal)\n",
    "print(indices_ben)\n",
    "print(indices_mal)"
   ]
  },
  {
   "cell_type": "code",
   "execution_count": 23,
   "metadata": {},
   "outputs": [],
   "source": [
    "#La siguiente sentencia busca en la columna 'ND', para ambos casos, los valores ? y\n",
    "#los intercambia por el entero de la media que acabamos de calcular segun sea el caso.\n",
    "Benigno['ND'] = np.where((Benigno.ND == '?'),int(media_ben),Benigno.ND)\n",
    "Maligno['ND'] = np.where((Maligno.ND == '?'),int(media_mal),Maligno.ND)"
   ]
  },
  {
   "cell_type": "code",
   "execution_count": 46,
   "metadata": {},
   "outputs": [],
   "source": [
    "#Convertimos la columna a valores int64, esto para no tener problemas con naive Bayes\n",
    "Benigno['ND'] = pd.to_numeric(Benigno['ND'])\n",
    "Maligno['ND'] = pd.to_numeric(Maligno['ND'])\n",
    "\n",
    "#Juntamos los dataframes completos y los guardamos en una variable\n",
    "Cancer_All = pd.concat([Benigno,Maligno])"
   ]
  },
  {
   "cell_type": "code",
   "execution_count": 50,
   "metadata": {},
   "outputs": [
    {
     "data": {
      "text/html": [
       "<div>\n",
       "<style scoped>\n",
       "    .dataframe tbody tr th:only-of-type {\n",
       "        vertical-align: middle;\n",
       "    }\n",
       "\n",
       "    .dataframe tbody tr th {\n",
       "        vertical-align: top;\n",
       "    }\n",
       "\n",
       "    .dataframe thead th {\n",
       "        text-align: right;\n",
       "    }\n",
       "</style>\n",
       "<table border=\"1\" class=\"dataframe\">\n",
       "  <thead>\n",
       "    <tr style=\"text-align: right;\">\n",
       "      <th></th>\n",
       "      <th>ID</th>\n",
       "      <th>G</th>\n",
       "      <th>UT</th>\n",
       "      <th>UF</th>\n",
       "      <th>A</th>\n",
       "      <th>T</th>\n",
       "      <th>ND</th>\n",
       "      <th>Cr</th>\n",
       "      <th>NN</th>\n",
       "      <th>M</th>\n",
       "      <th>C</th>\n",
       "    </tr>\n",
       "  </thead>\n",
       "  <tbody>\n",
       "    <tr>\n",
       "      <th>0</th>\n",
       "      <td>1000025</td>\n",
       "      <td>5</td>\n",
       "      <td>1</td>\n",
       "      <td>1</td>\n",
       "      <td>1</td>\n",
       "      <td>2</td>\n",
       "      <td>1</td>\n",
       "      <td>3</td>\n",
       "      <td>1</td>\n",
       "      <td>1</td>\n",
       "      <td>2</td>\n",
       "    </tr>\n",
       "    <tr>\n",
       "      <th>1</th>\n",
       "      <td>1002945</td>\n",
       "      <td>5</td>\n",
       "      <td>4</td>\n",
       "      <td>4</td>\n",
       "      <td>5</td>\n",
       "      <td>7</td>\n",
       "      <td>10</td>\n",
       "      <td>3</td>\n",
       "      <td>2</td>\n",
       "      <td>1</td>\n",
       "      <td>2</td>\n",
       "    </tr>\n",
       "    <tr>\n",
       "      <th>2</th>\n",
       "      <td>1015425</td>\n",
       "      <td>3</td>\n",
       "      <td>1</td>\n",
       "      <td>1</td>\n",
       "      <td>1</td>\n",
       "      <td>2</td>\n",
       "      <td>2</td>\n",
       "      <td>3</td>\n",
       "      <td>1</td>\n",
       "      <td>1</td>\n",
       "      <td>2</td>\n",
       "    </tr>\n",
       "    <tr>\n",
       "      <th>3</th>\n",
       "      <td>1016277</td>\n",
       "      <td>6</td>\n",
       "      <td>8</td>\n",
       "      <td>8</td>\n",
       "      <td>1</td>\n",
       "      <td>3</td>\n",
       "      <td>4</td>\n",
       "      <td>3</td>\n",
       "      <td>7</td>\n",
       "      <td>1</td>\n",
       "      <td>2</td>\n",
       "    </tr>\n",
       "    <tr>\n",
       "      <th>4</th>\n",
       "      <td>1017023</td>\n",
       "      <td>4</td>\n",
       "      <td>1</td>\n",
       "      <td>1</td>\n",
       "      <td>3</td>\n",
       "      <td>2</td>\n",
       "      <td>1</td>\n",
       "      <td>3</td>\n",
       "      <td>1</td>\n",
       "      <td>1</td>\n",
       "      <td>2</td>\n",
       "    </tr>\n",
       "    <tr>\n",
       "      <th>6</th>\n",
       "      <td>1018099</td>\n",
       "      <td>1</td>\n",
       "      <td>1</td>\n",
       "      <td>1</td>\n",
       "      <td>1</td>\n",
       "      <td>2</td>\n",
       "      <td>10</td>\n",
       "      <td>3</td>\n",
       "      <td>1</td>\n",
       "      <td>1</td>\n",
       "      <td>2</td>\n",
       "    </tr>\n",
       "  </tbody>\n",
       "</table>\n",
       "</div>"
      ],
      "text/plain": [
       "        ID  G  UT  UF  A  T  ND  Cr  NN  M  C\n",
       "0  1000025  5   1   1  1  2   1   3   1  1  2\n",
       "1  1002945  5   4   4  5  7  10   3   2  1  2\n",
       "2  1015425  3   1   1  1  2   2   3   1  1  2\n",
       "3  1016277  6   8   8  1  3   4   3   7  1  2\n",
       "4  1017023  4   1   1  3  2   1   3   1  1  2\n",
       "6  1018099  1   1   1  1  2  10   3   1  1  2"
      ]
     },
     "execution_count": 50,
     "metadata": {},
     "output_type": "execute_result"
    }
   ],
   "source": [
    "#Mostramos los dataframes juntos y observamos que el indice no esta ordenado\n",
    "Cancer_All.head(6)"
   ]
  },
  {
   "cell_type": "code",
   "execution_count": 45,
   "metadata": {},
   "outputs": [
    {
     "data": {
      "text/html": [
       "<div>\n",
       "<style scoped>\n",
       "    .dataframe tbody tr th:only-of-type {\n",
       "        vertical-align: middle;\n",
       "    }\n",
       "\n",
       "    .dataframe tbody tr th {\n",
       "        vertical-align: top;\n",
       "    }\n",
       "\n",
       "    .dataframe thead th {\n",
       "        text-align: right;\n",
       "    }\n",
       "</style>\n",
       "<table border=\"1\" class=\"dataframe\">\n",
       "  <thead>\n",
       "    <tr style=\"text-align: right;\">\n",
       "      <th></th>\n",
       "      <th>ID</th>\n",
       "      <th>G</th>\n",
       "      <th>UT</th>\n",
       "      <th>UF</th>\n",
       "      <th>A</th>\n",
       "      <th>T</th>\n",
       "      <th>ND</th>\n",
       "      <th>Cr</th>\n",
       "      <th>NN</th>\n",
       "      <th>M</th>\n",
       "      <th>C</th>\n",
       "    </tr>\n",
       "  </thead>\n",
       "  <tbody>\n",
       "    <tr>\n",
       "      <th>0</th>\n",
       "      <td>1000025</td>\n",
       "      <td>5</td>\n",
       "      <td>1</td>\n",
       "      <td>1</td>\n",
       "      <td>1</td>\n",
       "      <td>2</td>\n",
       "      <td>1</td>\n",
       "      <td>3</td>\n",
       "      <td>1</td>\n",
       "      <td>1</td>\n",
       "      <td>2</td>\n",
       "    </tr>\n",
       "    <tr>\n",
       "      <th>1</th>\n",
       "      <td>1002945</td>\n",
       "      <td>5</td>\n",
       "      <td>4</td>\n",
       "      <td>4</td>\n",
       "      <td>5</td>\n",
       "      <td>7</td>\n",
       "      <td>10</td>\n",
       "      <td>3</td>\n",
       "      <td>2</td>\n",
       "      <td>1</td>\n",
       "      <td>2</td>\n",
       "    </tr>\n",
       "    <tr>\n",
       "      <th>2</th>\n",
       "      <td>1015425</td>\n",
       "      <td>3</td>\n",
       "      <td>1</td>\n",
       "      <td>1</td>\n",
       "      <td>1</td>\n",
       "      <td>2</td>\n",
       "      <td>2</td>\n",
       "      <td>3</td>\n",
       "      <td>1</td>\n",
       "      <td>1</td>\n",
       "      <td>2</td>\n",
       "    </tr>\n",
       "    <tr>\n",
       "      <th>3</th>\n",
       "      <td>1016277</td>\n",
       "      <td>6</td>\n",
       "      <td>8</td>\n",
       "      <td>8</td>\n",
       "      <td>1</td>\n",
       "      <td>3</td>\n",
       "      <td>4</td>\n",
       "      <td>3</td>\n",
       "      <td>7</td>\n",
       "      <td>1</td>\n",
       "      <td>2</td>\n",
       "    </tr>\n",
       "    <tr>\n",
       "      <th>4</th>\n",
       "      <td>1017023</td>\n",
       "      <td>4</td>\n",
       "      <td>1</td>\n",
       "      <td>1</td>\n",
       "      <td>3</td>\n",
       "      <td>2</td>\n",
       "      <td>1</td>\n",
       "      <td>3</td>\n",
       "      <td>1</td>\n",
       "      <td>1</td>\n",
       "      <td>2</td>\n",
       "    </tr>\n",
       "    <tr>\n",
       "      <th>...</th>\n",
       "      <td>...</td>\n",
       "      <td>...</td>\n",
       "      <td>...</td>\n",
       "      <td>...</td>\n",
       "      <td>...</td>\n",
       "      <td>...</td>\n",
       "      <td>...</td>\n",
       "      <td>...</td>\n",
       "      <td>...</td>\n",
       "      <td>...</td>\n",
       "      <td>...</td>\n",
       "    </tr>\n",
       "    <tr>\n",
       "      <th>694</th>\n",
       "      <td>776715</td>\n",
       "      <td>3</td>\n",
       "      <td>1</td>\n",
       "      <td>1</td>\n",
       "      <td>1</td>\n",
       "      <td>3</td>\n",
       "      <td>2</td>\n",
       "      <td>1</td>\n",
       "      <td>1</td>\n",
       "      <td>1</td>\n",
       "      <td>2</td>\n",
       "    </tr>\n",
       "    <tr>\n",
       "      <th>695</th>\n",
       "      <td>841769</td>\n",
       "      <td>2</td>\n",
       "      <td>1</td>\n",
       "      <td>1</td>\n",
       "      <td>1</td>\n",
       "      <td>2</td>\n",
       "      <td>1</td>\n",
       "      <td>1</td>\n",
       "      <td>1</td>\n",
       "      <td>1</td>\n",
       "      <td>2</td>\n",
       "    </tr>\n",
       "    <tr>\n",
       "      <th>696</th>\n",
       "      <td>888820</td>\n",
       "      <td>5</td>\n",
       "      <td>10</td>\n",
       "      <td>10</td>\n",
       "      <td>3</td>\n",
       "      <td>7</td>\n",
       "      <td>3</td>\n",
       "      <td>8</td>\n",
       "      <td>10</td>\n",
       "      <td>2</td>\n",
       "      <td>4</td>\n",
       "    </tr>\n",
       "    <tr>\n",
       "      <th>697</th>\n",
       "      <td>897471</td>\n",
       "      <td>4</td>\n",
       "      <td>8</td>\n",
       "      <td>6</td>\n",
       "      <td>4</td>\n",
       "      <td>3</td>\n",
       "      <td>4</td>\n",
       "      <td>10</td>\n",
       "      <td>6</td>\n",
       "      <td>1</td>\n",
       "      <td>4</td>\n",
       "    </tr>\n",
       "    <tr>\n",
       "      <th>698</th>\n",
       "      <td>897471</td>\n",
       "      <td>4</td>\n",
       "      <td>8</td>\n",
       "      <td>8</td>\n",
       "      <td>5</td>\n",
       "      <td>4</td>\n",
       "      <td>5</td>\n",
       "      <td>10</td>\n",
       "      <td>4</td>\n",
       "      <td>1</td>\n",
       "      <td>4</td>\n",
       "    </tr>\n",
       "  </tbody>\n",
       "</table>\n",
       "<p>699 rows × 11 columns</p>\n",
       "</div>"
      ],
      "text/plain": [
       "          ID  G  UT  UF  A  T  ND  Cr  NN  M  C\n",
       "0    1000025  5   1   1  1  2   1   3   1  1  2\n",
       "1    1002945  5   4   4  5  7  10   3   2  1  2\n",
       "2    1015425  3   1   1  1  2   2   3   1  1  2\n",
       "3    1016277  6   8   8  1  3   4   3   7  1  2\n",
       "4    1017023  4   1   1  3  2   1   3   1  1  2\n",
       "..       ... ..  ..  .. .. ..  ..  ..  .. .. ..\n",
       "694   776715  3   1   1  1  3   2   1   1  1  2\n",
       "695   841769  2   1   1  1  2   1   1   1  1  2\n",
       "696   888820  5  10  10  3  7   3   8  10  2  4\n",
       "697   897471  4   8   6  4  3   4  10   6  1  4\n",
       "698   897471  4   8   8  5  4   5  10   4  1  4\n",
       "\n",
       "[699 rows x 11 columns]"
      ]
     },
     "execution_count": 45,
     "metadata": {},
     "output_type": "execute_result"
    }
   ],
   "source": [
    "#Creamos un nuevo dataframe a partir del anterior pero con los indices ordenados\n",
    "#es decir tenemos la tabla original pero con los valores nuevos\n",
    "Cancer2 = pd.DataFrame(Cancer_All.sort_index())\n",
    "Cancer2"
   ]
  },
  {
   "cell_type": "code",
   "execution_count": 51,
   "metadata": {},
   "outputs": [],
   "source": [
    "#Definimos nuestros conjuntos de entrenamiento y validacion\n",
    "#train se construye a partir de la funcion sample() donde frac es el porcentaje de los datos\n",
    "#random_state es la semilla del numero aleatorio, esta funcion por default tiene desactivado\n",
    "#el ingreso de datos por reemplazo, es decir no se pueden repetir filas\n",
    "#el conjunto test se construye a partir del train quitando todos los indices que tiene train,\n",
    "#es decir hace una operacion de conjuntos del conjunto universo Spam resta el conjunto train \n",
    "#y guarda lo que resta en test\n",
    "train = Cancer2.sample(frac=0.7,random_state=0)\n",
    "test = Cancer2.drop(train.index)\n",
    "#reseteamos los indices con la funcion reset_index. drop=True lo usamos para evitar que se\n",
    "#anada una columna del indice anterior\n",
    "train.reset_index(drop=True,inplace=True)\n",
    "test.reset_index(drop=True,inplace=True)\n",
    "\n",
    "Train = pd.DataFrame(train)\n",
    "Test = pd.DataFrame(test)"
   ]
  },
  {
   "cell_type": "code",
   "execution_count": 52,
   "metadata": {},
   "outputs": [
    {
     "name": "stdout",
     "output_type": "stream",
     "text": [
      "El conjunto de entrenamiento tiene 489 muestras.\n",
      "El conjunto de validacion tiene 210 muestras.\n"
     ]
    }
   ],
   "source": [
    "#creamos las matrices numpy X,Y de entrenamiento y test, veamos que los valores si cambian\n",
    "#con respecto al caso anterior.\n",
    "X_train = pd.DataFrame(Train.loc[:,'G':'M']).to_numpy()\n",
    "Y_train = pd.DataFrame(Train[['C']]).to_numpy()\n",
    "\n",
    "\n",
    "X_test = pd.DataFrame(Test.loc[:,'G':'M']).to_numpy()\n",
    "Y_test = pd.DataFrame(Test[['C']]).to_numpy()\n",
    "\n",
    "print('El conjunto de entrenamiento tiene %d muestras.' %X_train.shape[0])\n",
    "print('El conjunto de validacion tiene %d muestras.' %X_test.shape[0])"
   ]
  },
  {
   "cell_type": "markdown",
   "metadata": {},
   "source": [
    "## Con una Categorica"
   ]
  },
  {
   "cell_type": "code",
   "execution_count": 53,
   "metadata": {},
   "outputs": [
    {
     "data": {
      "text/plain": [
       "CategoricalNB(alpha=1.0, class_prior=None, fit_prior=True)"
      ]
     },
     "execution_count": 53,
     "metadata": {},
     "output_type": "execute_result"
    }
   ],
   "source": [
    "#Ajustamos a un clasificador Naive Bayes de distribuciones Categoricas\n",
    "Cat = CategoricalNB()\n",
    "Cat.fit(X_train,Y_train.ravel())"
   ]
  },
  {
   "cell_type": "code",
   "execution_count": 55,
   "metadata": {},
   "outputs": [
    {
     "name": "stdout",
     "output_type": "stream",
     "text": [
      "La exactitud relativa del modelo es 0.96933, para la prediccion de los datos de entrenamiento\n",
      "La cantidad de errores de un total de 489 muestras es : 15\n",
      "Estos errores representan el 3.07 porciento\n"
     ]
    }
   ],
   "source": [
    "#predecimos las salidas de los datos de entrenamiento con nuestro modelo\n",
    "Y_pred_train = Cat.predict(X_train)\n",
    "#Imprimimos las estadisticas\n",
    "print('La exactitud relativa del modelo es %.5f, para la prediccion de los datos de entrenamiento' %accuracy_score(Y_train,Y_pred_train))\n",
    "print('La cantidad de errores de un total de %d muestras es : %d' % (X_train.shape[0], (Y_train.T != Y_pred_train).sum()))\n",
    "print('Estos errores representan el %.2f porciento' %(100*((Y_train.T != Y_pred_train).sum()/X_train.shape[0] )))"
   ]
  },
  {
   "cell_type": "code",
   "execution_count": 57,
   "metadata": {},
   "outputs": [
    {
     "name": "stdout",
     "output_type": "stream",
     "text": [
      "La exactitud relativa del modelo es 0.98095, para la prediccion de los datos de validacion\n",
      "La cantidad de errores de un total de 210 muestras es : 4\n",
      "Estos errores representan el 1.90 porciento\n"
     ]
    }
   ],
   "source": [
    "#Predecimos las salidas de los datos de validacion con nuestro modelo y las imprimimos\n",
    "Y_pred_test = Cat.predict(X_test)\n",
    "#Imprimimos las estadisticas\n",
    "print('La exactitud relativa del modelo es %.5f, para la prediccion de los datos de validacion' %accuracy_score(Y_test,Y_pred_test))\n",
    "print('La cantidad de errores de un total de %d muestras es : %d' % (X_test.shape[0], (Y_test.T != Y_pred_test).sum()))\n",
    "print('Estos errores representan el %.2f porciento' %(100*((Y_test.T != Y_pred_test).sum()/X_test.shape[0] )))"
   ]
  },
  {
   "cell_type": "markdown",
   "metadata": {},
   "source": [
    "## Con una Multinomial"
   ]
  },
  {
   "cell_type": "code",
   "execution_count": 58,
   "metadata": {},
   "outputs": [
    {
     "data": {
      "text/plain": [
       "MultinomialNB(alpha=1.0, class_prior=None, fit_prior=True)"
      ]
     },
     "execution_count": 58,
     "metadata": {},
     "output_type": "execute_result"
    }
   ],
   "source": [
    "#Modelamos nuestro naive bayes con una multinomial y ajustamos datos\n",
    "Multi = MultinomialNB()\n",
    "Multi.fit(X_train,Y_train.ravel())"
   ]
  },
  {
   "cell_type": "code",
   "execution_count": 59,
   "metadata": {},
   "outputs": [
    {
     "name": "stdout",
     "output_type": "stream",
     "text": [
      "La exactitud relativa del modelo es 0.89775, para la prediccion de los datos de entrenamiento\n",
      "La cantidad de errores de un total de 489 muestras es : 50\n",
      "Estos errores representan el 10.22 porciento\n"
     ]
    }
   ],
   "source": [
    "#predecimos las salidas de los datos de entrenamiento con nuestro modelo\n",
    "Y_pred_train_multi = Multi.predict(X_train)\n",
    "#Imprimimos las estadisticas\n",
    "print('La exactitud relativa del modelo es %.5f, para la prediccion de los datos de entrenamiento' %accuracy_score(Y_train,Y_pred_train_multi))\n",
    "print('La cantidad de errores de un total de %d muestras es : %d' % (X_train.shape[0], (Y_train.T != Y_pred_train_multi).sum()))\n",
    "print('Estos errores representan el %.2f porciento' %(100*((Y_train.T != Y_pred_train_multi).sum()/X_train.shape[0] )))"
   ]
  },
  {
   "cell_type": "code",
   "execution_count": 60,
   "metadata": {},
   "outputs": [
    {
     "name": "stdout",
     "output_type": "stream",
     "text": [
      "La exactitud relativa del modelo es 0.91429, para la prediccion de los datos de validacion\n",
      "La cantidad de errores de un total de 210 muestras es : 18\n",
      "Estos errores representan el 8.57 porciento\n"
     ]
    }
   ],
   "source": [
    "#Predecimos las salidas de los datos de validacion con nuestro modelo y las imprimimos\n",
    "Y_pred_test_multi = Multi.predict(X_test)\n",
    "#Imprimimos las estadisticas\n",
    "print('La exactitud relativa del modelo es %.5f, para la prediccion de los datos de validacion' %accuracy_score(Y_test,Y_pred_test_multi))\n",
    "print('La cantidad de errores de un total de %d muestras es : %d' % (X_test.shape[0], (Y_test.T != Y_pred_test_multi).sum()))\n",
    "print('Estos errores representan el %.2f porciento' %(100*((Y_test.T != Y_pred_test_multi).sum()/X_test.shape[0] )))"
   ]
  },
  {
   "cell_type": "markdown",
   "metadata": {},
   "source": [
    "Los resultados se resumen a continuacion:\n",
    "\n",
    "|Modelo  | %Error (Train)  | %Error (Test) | \n",
    "| ------- |:-------------:|:-------------:| \n",
    "|Categorica sin datos faltantes| 2.72 |  2.44 |\n",
    "|Categorica con datos faltantes (considerando la media)| 3.07|  1.90 |\n",
    "|Multinomial sin datos faltantes       | 10.04 |  8.78 |\n",
    "|Multinomial con datos faltantes (considerando la media)| 10.22 |  8.57 |\n",
    "\n",
    "\n",
    "Observamos que al considerar los datos faltantes y rellenarlos con la media de la columna (segun el caso) El error de los clasificadores con los datos de Entrenamiento incrementa con respecto al caso donde no se consideran los datos faltantes, sin embargo, el error con los datos de validacion disminuye 0.5 y 0.2 para la categorica y multinomial. Anadir estos datos dio un plus a las predicciones que, es en realidad, lo que nos interesa. Notemos que agregar 16 Datos puede disminuir 0.5 el error en la prediccion. Es obvio que el error en la prediccion disminuya ya que las probabilidades estan mejor definidas.\n"
   ]
  },
  {
   "cell_type": "markdown",
   "metadata": {},
   "source": [
    "## Ajuste lineal"
   ]
  },
  {
   "cell_type": "code",
   "execution_count": 62,
   "metadata": {},
   "outputs": [
    {
     "name": "stdout",
     "output_type": "stream",
     "text": [
      "Hay 458 muestras de benigno y 241 muestras de maligno. Ya lo sabiamos e.e\n"
     ]
    }
   ],
   "source": [
    "import seaborn as sns\n",
    "\n",
    "#Sobre la columna 'C' (de cancer) buscamos los valores que contengan el numero 2,\n",
    "#es decir que sean benignos y lo hacemos un dataframe\n",
    "Benigno = pd.DataFrame(Cancer.loc[Cancer['C'] == 2])\n",
    "\n",
    "#Sobre la columna 'C' (de cancer) buscamos los valores que contengan el numero 4,\n",
    "#es decir que sean malignos y lo hacemos un dataframe\n",
    "Maligno = pd.DataFrame(Cancer.loc[Cancer['C'] == 4])\n",
    "print('Hay %d muestras de benigno y %d muestras de maligno. Ya lo sabiamos e.e' %(Benigno.shape[0],Maligno.shape[0]))"
   ]
  },
  {
   "cell_type": "code",
   "execution_count": 63,
   "metadata": {},
   "outputs": [],
   "source": [
    "#Guardamos en una variable los indices tales que la columna 'ND' contenga valores ?\n",
    "#Para los dos casos Maligno y Benigno\n",
    "indices_ben = Benigno[Benigno['ND'].str.contains('\\?')].index\n",
    "indices_mal = Maligno[Maligno['ND'].str.contains('\\?')].index\n",
    "\n",
    "#Calculamos la media de la columna 'ND' sin considerar los valores ? para el caso de Benigno\n",
    "#La guardamos en la variable media_ben\n",
    "datos_benigno = pd.DataFrame(Benigno.drop(indices_ben))\n",
    "#Calculamos la media de la columna 'ND' sin considerar los valores ? para el caso de Maligno\n",
    "#La guardamos en la variable media_mal\n",
    "datos_maligno = pd.DataFrame(Maligno.drop(indices_mal))"
   ]
  },
  {
   "cell_type": "code",
   "execution_count": 64,
   "metadata": {},
   "outputs": [
    {
     "ename": "NameError",
     "evalue": "name 'plt' is not defined",
     "output_type": "error",
     "traceback": [
      "\u001b[1;31m---------------------------------------------------------------------------\u001b[0m",
      "\u001b[1;31mNameError\u001b[0m                                 Traceback (most recent call last)",
      "\u001b[1;32m<ipython-input-64-2b69305df722>\u001b[0m in \u001b[0;36m<module>\u001b[1;34m\u001b[0m\n\u001b[0;32m      1\u001b[0m \u001b[0msns\u001b[0m\u001b[1;33m.\u001b[0m\u001b[0mpairplot\u001b[0m\u001b[1;33m(\u001b[0m\u001b[0mdatos_benigno\u001b[0m\u001b[1;33m)\u001b[0m\u001b[1;33m\u001b[0m\u001b[1;33m\u001b[0m\u001b[0m\n\u001b[1;32m----> 2\u001b[1;33m \u001b[0mplt\u001b[0m\u001b[1;33m.\u001b[0m\u001b[0mshow\u001b[0m\u001b[1;33m(\u001b[0m\u001b[1;33m)\u001b[0m\u001b[1;33m\u001b[0m\u001b[1;33m\u001b[0m\u001b[0m\n\u001b[0m",
      "\u001b[1;31mNameError\u001b[0m: name 'plt' is not defined"
     ]
    },
    {
     "data": {
      "image/png": "[encoded data removed]",
      "text/plain": [
       "<Figure size 1980x1980 with 132 Axes>"
      ]
     },
     "metadata": {
      "needs_background": "light"
     },
     "output_type": "display_data"
    }
   ],
   "source": [
    "sns.pairplot(datos_benigno)\n",
    "plt.show()"
   ]
  }
 ],
 "metadata": {
  "kernelspec": {
   "display_name": "Python 3",
   "language": "python",
   "name": "python3"
  },
  "language_info": {
   "codemirror_mode": {
    "name": "ipython",
    "version": 3
   },
   "file_extension": ".py",
   "mimetype": "text/x-python",
   "name": "python",
   "nbconvert_exporter": "python",
   "pygments_lexer": "ipython3",
   "version": "3.7.6"
  }
 },
 "nbformat": 4,
 "nbformat_minor": 4
}
